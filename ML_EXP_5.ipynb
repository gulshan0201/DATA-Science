{
  "nbformat": 4,
  "nbformat_minor": 0,
  "metadata": {
    "colab": {
      "provenance": [],
      "authorship_tag": "ABX9TyPFLF6rW0c7VVezTfmq6vI1",
      "include_colab_link": true
    },
    "kernelspec": {
      "name": "python3",
      "display_name": "Python 3"
    },
    "language_info": {
      "name": "python"
    }
  },
  "cells": [
    {
      "cell_type": "markdown",
      "metadata": {
        "id": "view-in-github",
        "colab_type": "text"
      },
      "source": [
        "<a href=\"https://colab.research.google.com/github/gulshan0201/DATA-Science/blob/main/ML_EXP_5.ipynb\" target=\"_parent\"><img src=\"https://colab.research.google.com/assets/colab-badge.svg\" alt=\"Open In Colab\"/></a>"
      ]
    },
    {
      "cell_type": "code",
      "execution_count": null,
      "metadata": {
        "colab": {
          "base_uri": "https://localhost:8080/"
        },
        "id": "kap2uspKuZiL",
        "outputId": "a65bc6e1-91b7-4b4b-ac9e-489ed2aafa4a"
      },
      "outputs": [
        {
          "output_type": "stream",
          "name": "stdout",
          "text": [
            "Linear Regression R² Score: 0.9442031815195597\n",
            "Polynomial Regression (deg=3) R² Score: 0.9406100492181844\n",
            "SVR (RBF) R² Score: 0.9374296718852451\n"
          ]
        }
      ],
      "source": [
        "from sklearn.datasets import make_regression\n",
        "from sklearn.linear_model import LinearRegression\n",
        "from sklearn.preprocessing import PolynomialFeatures, StandardScaler\n",
        "from sklearn.pipeline import make_pipeline\n",
        "from sklearn.svm import SVR\n",
        "from sklearn.model_selection import train_test_split\n",
        "from sklearn.metrics import r2_score\n",
        "\n",
        "# Dataset\n",
        "X, y = make_regression(n_samples=1000, n_features=5, n_informative=5, noise=15, random_state=42)\n",
        "X_train, X_test, y_train, y_test = train_test_split(X, y, test_size=0.2, random_state=0)\n",
        "\n",
        "# Linear Regression\n",
        "lr = LinearRegression()\n",
        "lr.fit(X_train, y_train)\n",
        "print(\"Linear Regression R² Score:\", lr.score(X_test, y_test))\n",
        "\n",
        "# Polynomial Regression (degree 3)\n",
        "poly_model = make_pipeline(PolynomialFeatures(degree=3), LinearRegression())\n",
        "poly_model.fit(X_train, y_train)\n",
        "print(\"Polynomial Regression (deg=3) R² Score:\", poly_model.score(X_test, y_test))\n",
        "\n",
        "# SVR with RBF Kernel\n",
        "scaler = StandardScaler()\n",
        "X_train_scaled = scaler.fit_transform(X_train)\n",
        "X_test_scaled = scaler.transform(X_test)\n",
        "\n",
        "svr = SVR(kernel='rbf', C=100, gamma=0.1)\n",
        "svr.fit(X_train_scaled, y_train)\n",
        "print(\"SVR (RBF) R² Score:\", svr.score(X_test_scaled, y_test))\n"
      ]
    },
    {
      "cell_type": "markdown",
      "source": [
        "# Based on a real dataset COMEX Gold Futures Dataset (GC Contract)"
      ],
      "metadata": {
        "id": "7qqvNTBM4IXX"
      }
    },
    {
      "cell_type": "code",
      "source": [
        "import pandas as pd\n",
        "from sklearn.linear_model import LinearRegression\n",
        "from sklearn.preprocessing import PolynomialFeatures, StandardScaler\n",
        "from sklearn.pipeline import make_pipeline\n",
        "from sklearn.svm import SVR\n",
        "from sklearn.model_selection import train_test_split\n",
        "from sklearn.metrics import r2_score\n",
        "import numpy as np\n",
        "\n",
        "# Load the dataset\n",
        "file_name = \"GC_in_15_minute_new.csv\"\n",
        "\n",
        "try:\n",
        "    df = pd.read_csv(file_name)\n",
        "\n",
        "    # --- Preprocessing ---\n",
        "    df.dropna(inplace=True)\n",
        "\n",
        "    # Convert datetime to a numeric feature (Unix timestamp)\n",
        "    df['datetime'] = pd.to_datetime(df['datetime'])\n",
        "    df['timestamp'] = df['datetime'].astype('int64') // 10**9\n",
        "\n",
        "    # --- Define features (X) and target (y) ---\n",
        "    features = ['open', 'high', 'low', 'volume', 'timestamp']\n",
        "    target = 'close'\n",
        "\n",
        "    X = df[features]\n",
        "    y = df[target]\n",
        "\n",
        "    # --- Split the data ---\n",
        "    X_train, X_test, y_train, y_test = train_test_split(X, y, test_size=0.2, random_state=0)\n",
        "\n",
        "    print(f\"Training with {len(X_train)} samples, Testing with {len(X_test)} samples.\")\n",
        "\n",
        "    # --- Model 1: Linear Regression ---\n",
        "    print(\"\\n--- Training Linear Regression ---\")\n",
        "    lr = LinearRegression()\n",
        "    lr.fit(X_train, y_train)\n",
        "    print(\"Linear Regression R² Score:\", lr.score(X_test, y_test))\n",
        "\n",
        "    # --- Model 2: Polynomial Regression (degree 2) ---\n",
        "    print(\"\\n--- Training Polynomial Regression (deg=2) ---\")\n",
        "    poly_model = make_pipeline(PolynomialFeatures(degree=2), LinearRegression())\n",
        "    poly_model.fit(X_train, y_train)\n",
        "    print(\"Polynomial Regression (deg=2) R² Score:\", poly_model.score(X_test, y_test))\n",
        "\n",
        "    # --- Model 3: SVR with RBF Kernel ---\n",
        "    print(\"\\n--- Training SVR (RBF) ---\")\n",
        "    # SVR requires features to be on a similar scale\n",
        "    scaler = StandardScaler()\n",
        "    X_train_scaled = scaler.fit_transform(X_train)\n",
        "    X_test_scaled = scaler.transform(X_test)\n",
        "\n",
        "    # Using the same parameters as the example\n",
        "    svr = SVR(kernel='rbf', C=100, gamma=0.1)\n",
        "    svr.fit(X_train_scaled, y_train)\n",
        "    print(\"SVR (RBF) R² Score:\", svr.score(X_test_scaled, y_test))\n",
        "\n",
        "except FileNotFoundError:\n",
        "    print(f\"Error: The file '{file_name}' was not found.\")\n",
        "except Exception as e:\n",
        "    print(f\"An error occurred: {e}\")"
      ],
      "metadata": {
        "colab": {
          "base_uri": "https://localhost:8080/"
        },
        "id": "NZy-CpeK0uZZ",
        "outputId": "45991d8a-848c-4a0c-8547-10b3ddcdd00e"
      },
      "execution_count": null,
      "outputs": [
        {
          "output_type": "stream",
          "name": "stdout",
          "text": [
            "Training with 5580 samples, Testing with 1395 samples.\n",
            "\n",
            "--- Training Linear Regression ---\n",
            "Linear Regression R² Score: 0.9999483527876615\n",
            "\n",
            "--- Training Polynomial Regression (deg=2) ---\n",
            "Polynomial Regression (deg=2) R² Score: 0.9999470827116347\n",
            "\n",
            "--- Training SVR (RBF) ---\n",
            "SVR (RBF) R² Score: 0.9998079395523923\n"
          ]
        }
      ]
    },
    {
      "cell_type": "markdown",
      "source": [
        "# Task 2"
      ],
      "metadata": {
        "id": "6kqYD5Vp4-5A"
      }
    },
    {
      "cell_type": "code",
      "source": [
        "import pandas as pd\n",
        "from sklearn.linear_model import LinearRegression\n",
        "from sklearn.preprocessing import PolynomialFeatures, StandardScaler\n",
        "from sklearn.pipeline import make_pipeline\n",
        "from sklearn.svm import SVR\n",
        "from sklearn.model_selection import train_test_split\n",
        "from sklearn.metrics import r2_score\n",
        "import numpy as np\n",
        "\n",
        "# Load the dataset\n",
        "file_name = \"GC_in_15_minute_new.csv\"\n",
        "\n",
        "try:\n",
        "    df = pd.read_csv(file_name)\n",
        "\n",
        "    # --- Preprocessing ---\n",
        "    df.dropna(inplace=True)\n",
        "    df['datetime'] = pd.to_datetime(df['datetime'])\n",
        "    df['timestamp'] = df['datetime'].astype('int64') // 10**9\n",
        "\n",
        "    features = ['open', 'high', 'low', 'volume', 'timestamp']\n",
        "    target = 'close'\n",
        "\n",
        "    X = df[features]\n",
        "    y = df[target]\n",
        "\n",
        "    # --- Split the data ---\n",
        "    X_train, X_test, y_train, y_test = train_test_split(X, y, test_size=0.2, random_state=0)\n",
        "\n",
        "    print(f\"Training with {len(X_train)} samples, Testing with {len(X_test)} samples.\\n\")\n",
        "\n",
        "    # --- Model 1: Linear Regression (Baseline) ---\n",
        "    print(\"--- Linear Regression ---\")\n",
        "    lr = LinearRegression()\n",
        "    lr.fit(X_train, y_train)\n",
        "    print(f\"Linear Regression R² Score: {lr.score(X_test, y_test):.6f}\\n\")\n",
        "\n",
        "    # --- Model 2: Polynomial Regression (Varying degree) ---\n",
        "    print(\"--- Polynomial Regression ---\")\n",
        "\n",
        "    # Degree 2\n",
        "    poly_model_2 = make_pipeline(PolynomialFeatures(degree=2), LinearRegression())\n",
        "    poly_model_2.fit(X_train, y_train)\n",
        "    print(f\"Polynomial Regression (deg=2) R² Score: {poly_model_2.score(X_test, y_test):.6f}\")\n",
        "\n",
        "    # Degree 3\n",
        "    poly_model_3 = make_pipeline(PolynomialFeatures(degree=3), LinearRegression())\n",
        "    poly_model_3.fit(X_train, y_train)\n",
        "    print(f\"Polynomial Regression (deg=3) R² Score: {poly_model_3.score(X_test, y_test):.6f}\\n\")\n",
        "\n",
        "    # --- Model 3: SVR with RBF Kernel (Varying C and gamma) ---\n",
        "    print(\"--- SVR (RBF) ---\")\n",
        "    scaler = StandardScaler()\n",
        "    X_train_scaled = scaler.fit_transform(X_train)\n",
        "    X_test_scaled = scaler.transform(X_test)\n",
        "\n",
        "    # SVR 1 (Original Parameters)\n",
        "    svr_1 = SVR(kernel='rbf', C=100, gamma=0.1)\n",
        "    svr_1.fit(X_train_scaled, y_train)\n",
        "    print(f\"SVR (C=100, gamma=0.1) R² Score: {svr_1.score(X_test_scaled, y_test):.6f}\")\n",
        "\n",
        "    # SVR 2 (Common Defaults)\n",
        "    svr_2 = SVR(kernel='rbf', C=1.0, gamma='scale')\n",
        "    svr_2.fit(X_train_scaled, y_train)\n",
        "    print(f\"SVR (C=1.0, gamma='scale') R² Score: {svr_2.score(X_test_scaled, y_test):.6f}\")\n",
        "\n",
        "    # SVR 3 (High C, default gamma)\n",
        "    svr_3 = SVR(kernel='rbf', C=1000, gamma='scale')\n",
        "    svr_3.fit(X_train_scaled, y_train)\n",
        "    print(f\"SVR (C=1000, gamma='scale') R² Score: {svr_3.score(X_test_scaled, y_test):.6f}\")\n",
        "\n",
        "except FileNotFoundError:\n",
        "    print(f\"Error: The file '{file_name}' was not found.\")\n",
        "except Exception as e:\n",
        "    print(f\"An error occurred: {e}\")"
      ],
      "metadata": {
        "colab": {
          "base_uri": "https://localhost:8080/"
        },
        "id": "fmCbZcgu4-iQ",
        "outputId": "60ca7bf6-5724-4d19-931b-61184610124b"
      },
      "execution_count": null,
      "outputs": [
        {
          "output_type": "stream",
          "name": "stdout",
          "text": [
            "Training with 5580 samples, Testing with 1395 samples.\n",
            "\n",
            "--- Linear Regression ---\n",
            "Linear Regression R² Score: 0.999948\n",
            "\n",
            "--- Polynomial Regression ---\n",
            "Polynomial Regression (deg=2) R² Score: 0.999947\n",
            "Polynomial Regression (deg=3) R² Score: 0.999947\n",
            "\n",
            "--- SVR (RBF) ---\n",
            "SVR (C=100, gamma=0.1) R² Score: 0.999808\n",
            "SVR (C=1.0, gamma='scale') R² Score: 0.959068\n",
            "SVR (C=1000, gamma='scale') R² Score: 0.999867\n"
          ]
        }
      ]
    }
  ]
}